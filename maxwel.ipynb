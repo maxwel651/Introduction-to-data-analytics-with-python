{
 "cells": [
  {
   "cell_type": "code",
   "execution_count": 1,
   "id": "077bbcef-082c-4fa2-b8e3-5bf2be8c80cd",
   "metadata": {},
   "outputs": [],
   "source": [
    "first=\"darlsy\"\n",
    "second=\"lida\""
   ]
  },
  {
   "cell_type": "code",
   "execution_count": 4,
   "id": "df64a365-909b-45b2-915b-efbb3f7472ea",
   "metadata": {},
   "outputs": [
    {
     "data": {
      "text/plain": [
       "'darlsy lida'"
      ]
     },
     "execution_count": 4,
     "metadata": {},
     "output_type": "execute_result"
    }
   ],
   "source": [
    "first+ \" \"+second"
   ]
  },
  {
   "cell_type": "code",
   "execution_count": 5,
   "id": "a070db32-df2c-41aa-9ff9-f5ace440e696",
   "metadata": {},
   "outputs": [
    {
     "data": {
      "text/plain": [
       "'darlsydarlsy'"
      ]
     },
     "execution_count": 5,
     "metadata": {},
     "output_type": "execute_result"
    }
   ],
   "source": [
    "first*2"
   ]
  },
  {
   "cell_type": "code",
   "execution_count": 6,
   "id": "92b812aa-8aff-4abf-8fd6-0690c7890d7e",
   "metadata": {},
   "outputs": [],
   "source": [
    "second=\"otieno\""
   ]
  },
  {
   "cell_type": "code",
   "execution_count": 9,
   "id": "67e3fdc8-5b5f-4bfe-b615-fd6cf907f424",
   "metadata": {},
   "outputs": [
    {
     "data": {
      "text/plain": [
       "'o'"
      ]
     },
     "execution_count": 9,
     "metadata": {},
     "output_type": "execute_result"
    }
   ],
   "source": [
    "second[0]"
   ]
  },
  {
   "cell_type": "code",
   "execution_count": 13,
   "id": "976597ed-cb92-4560-a84b-c2967d0f0beb",
   "metadata": {},
   "outputs": [],
   "source": [
    "fullname = first+\" \"+second\n"
   ]
  },
  {
   "cell_type": "code",
   "execution_count": 14,
   "id": "e9f078c8-751b-4662-b02d-a1e911fb665a",
   "metadata": {},
   "outputs": [
    {
     "data": {
      "text/plain": [
       "'darlsy'"
      ]
     },
     "execution_count": 14,
     "metadata": {},
     "output_type": "execute_result"
    }
   ],
   "source": [
    "fullname[0:6]"
   ]
  },
  {
   "cell_type": "code",
   "execution_count": 15,
   "id": "ab0aa7ea-7878-4bae-abca-641521248fac",
   "metadata": {},
   "outputs": [
    {
     "name": "stdin",
     "output_type": "stream",
     "text": [
      "enter first name cynthia\n"
     ]
    }
   ],
   "source": [
    "name=input(\"enter first name\")"
   ]
  },
  {
   "cell_type": "code",
   "execution_count": 17,
   "id": "d9552c11-b8dc-4731-8c2e-e86f60b5694e",
   "metadata": {},
   "outputs": [
    {
     "name": "stdout",
     "output_type": "stream",
     "text": [
      "cynthia\n"
     ]
    }
   ],
   "source": [
    "print(name)"
   ]
  },
  {
   "cell_type": "code",
   "execution_count": 20,
   "id": "3e109079-92ee-481e-8705-696c6c7b9064",
   "metadata": {
    "scrolled": true
   },
   "outputs": [
    {
     "name": "stdout",
     "output_type": "stream",
     "text": [
      "0\n",
      "1\n",
      "2\n",
      "3\n",
      "4\n",
      "5\n",
      "6\n",
      "7\n",
      "8\n",
      "9\n",
      "10\n"
     ]
    }
   ],
   "source": [
    "for i in range(11):\n",
    "    print(i)"
   ]
  },
  {
   "cell_type": "code",
   "execution_count": 7,
   "id": "894a4331-f993-4619-96dd-bcdb30a28515",
   "metadata": {},
   "outputs": [
    {
     "name": "stdout",
     "output_type": "stream",
     "text": [
      "2,4,6,8,10,"
     ]
    }
   ],
   "source": [
    "\n",
    "#2,4,6,8,10\n",
    "for x in range(2,11,2):\n",
    "    print(x,end=\",\")"
   ]
  },
  {
   "cell_type": "code",
   "execution_count": 8,
   "id": "2eaa70b1-9b05-4619-8fc1-ab80766babcc",
   "metadata": {},
   "outputs": [
    {
     "name": "stdout",
     "output_type": "stream",
     "text": [
      "1\n",
      "5\n",
      "9\n",
      "13\n",
      "17\n",
      "21\n",
      "25\n",
      "29\n",
      "33\n"
     ]
    }
   ],
   "source": [
    "for x in range(1,36,4):\n",
    "    print(x)"
   ]
  },
  {
   "cell_type": "code",
   "execution_count": 10,
   "id": "60f41330-eb3f-4a84-a4e7-f23ff4544d0a",
   "metadata": {},
   "outputs": [
    {
     "name": "stdin",
     "output_type": "stream",
     "text": [
      "enter age 35\n"
     ]
    },
    {
     "name": "stdout",
     "output_type": "stream",
     "text": [
      "/n 8.75\n"
     ]
    },
    {
     "name": "stdin",
     "output_type": "stream",
     "text": [
      "enter age 42\n"
     ]
    },
    {
     "name": "stdout",
     "output_type": "stream",
     "text": [
      "/n 19.25\n"
     ]
    },
    {
     "name": "stdin",
     "output_type": "stream",
     "text": [
      "enter age 45\n"
     ]
    },
    {
     "name": "stdout",
     "output_type": "stream",
     "text": [
      "/n 30.5\n"
     ]
    },
    {
     "name": "stdin",
     "output_type": "stream",
     "text": [
      "enter age 50\n"
     ]
    },
    {
     "name": "stdout",
     "output_type": "stream",
     "text": [
      "/n 43.0\n"
     ]
    }
   ],
   "source": []
  },
  {
   "cell_type": "code",
   "execution_count": 15,
   "id": "03366717-8c4f-44de-b128-2a71c0f7f088",
   "metadata": {},
   "outputs": [
    {
     "name": "stdin",
     "output_type": "stream",
     "text": [
      "enter marks 30\n",
      "enter marks 45\n",
      "enter marks 50\n",
      "enter marks 35\n",
      "enter marks 55\n"
     ]
    },
    {
     "name": "stdout",
     "output_type": "stream",
     "text": [
      "\n",
      " 11.0\n"
     ]
    }
   ],
   "source": [
    "total=0\n",
    "for x in range(5):\n",
    "  x=int(input(\"enter marks\"))\n",
    "total+=x\n",
    "average=total/5\n",
    "print('\\n',total/5)"
   ]
  },
  {
   "cell_type": "code",
   "execution_count": 20,
   "id": "90399dd9-82f3-4913-a439-fbef4090330b",
   "metadata": {},
   "outputs": [
    {
     "name": "stdin",
     "output_type": "stream",
     "text": [
      "enter age 23\n"
     ]
    },
    {
     "name": "stdout",
     "output_type": "stream",
     "text": [
      "23.0\n"
     ]
    },
    {
     "name": "stdin",
     "output_type": "stream",
     "text": [
      "enter age 32\n"
     ]
    },
    {
     "name": "stdout",
     "output_type": "stream",
     "text": [
      "27.5\n"
     ]
    },
    {
     "name": "stdin",
     "output_type": "stream",
     "text": [
      "enter age 25\n"
     ]
    },
    {
     "name": "stdout",
     "output_type": "stream",
     "text": [
      "26.666666666666668\n"
     ]
    },
    {
     "name": "stdin",
     "output_type": "stream",
     "text": [
      "enter age 34\n"
     ]
    },
    {
     "name": "stdout",
     "output_type": "stream",
     "text": [
      "28.5\n"
     ]
    }
   ],
   "source": [
    "count=0\n",
    "total=0\n",
    "while count<4:\n",
    "    x=int(input(\"enter age\"))\n",
    "    total +=x\n",
    "    count +=1\n",
    "    print(total/count)"
   ]
  },
  {
   "cell_type": "code",
   "execution_count": null,
   "id": "71b721f8-203f-4533-9e78-d84613a0b598",
   "metadata": {},
   "outputs": [],
   "source": []
  }
 ],
 "metadata": {
  "kernelspec": {
   "display_name": "Python 3 (ipykernel)",
   "language": "python",
   "name": "python3"
  },
  "language_info": {
   "codemirror_mode": {
    "name": "ipython",
    "version": 3
   },
   "file_extension": ".py",
   "mimetype": "text/x-python",
   "name": "python",
   "nbconvert_exporter": "python",
   "pygments_lexer": "ipython3",
   "version": "3.12.4"
  }
 },
 "nbformat": 4,
 "nbformat_minor": 5
}
